{
 "cells": [
  {
   "cell_type": "code",
   "execution_count": 75,
   "metadata": {},
   "outputs": [],
   "source": [
    "import networkx as nx\n",
    "from networkx.algorithms import bipartite\n",
    "import pandas as pd\n",
    "import numpy as np\n",
    "import matplotlib.pyplot as plt\n",
    "import csv\n",
    "\n",
    "# Importing packages used to display images\n",
    "from PIL import Image\n",
    "import requests\n",
    "from io import BytesIO\n",
    "\n",
    "%matplotlib inline"
   ]
  },
  {
   "cell_type": "code",
   "execution_count": 11,
   "metadata": {},
   "outputs": [],
   "source": [
    "raw_data = \"https://raw.githubusercontent.com/ntlrs/Data620/master/Assigment2/soc-sign-bitcoinalpha.csv\""
   ]
  },
  {
   "cell_type": "code",
   "execution_count": 61,
   "metadata": {},
   "outputs": [],
   "source": [
    "road = pd.read_csv(raw_data, header=None, names = ['SOURCE', 'TARGET', 'RATING', 'TIME'])"
   ]
  },
  {
   "cell_type": "code",
   "execution_count": 64,
   "metadata": {},
   "outputs": [
    {
     "data": {
      "text/html": [
       "<div>\n",
       "<style scoped>\n",
       "    .dataframe tbody tr th:only-of-type {\n",
       "        vertical-align: middle;\n",
       "    }\n",
       "\n",
       "    .dataframe tbody tr th {\n",
       "        vertical-align: top;\n",
       "    }\n",
       "\n",
       "    .dataframe thead th {\n",
       "        text-align: right;\n",
       "    }\n",
       "</style>\n",
       "<table border=\"1\" class=\"dataframe\">\n",
       "  <thead>\n",
       "    <tr style=\"text-align: right;\">\n",
       "      <th></th>\n",
       "      <th>SOURCE</th>\n",
       "      <th>TARGET</th>\n",
       "      <th>RATING</th>\n",
       "      <th>TIME</th>\n",
       "    </tr>\n",
       "  </thead>\n",
       "  <tbody>\n",
       "    <tr>\n",
       "      <th>0</th>\n",
       "      <td>7188</td>\n",
       "      <td>1</td>\n",
       "      <td>10</td>\n",
       "      <td>1407470400</td>\n",
       "    </tr>\n",
       "    <tr>\n",
       "      <th>1</th>\n",
       "      <td>430</td>\n",
       "      <td>1</td>\n",
       "      <td>10</td>\n",
       "      <td>1376539200</td>\n",
       "    </tr>\n",
       "    <tr>\n",
       "      <th>2</th>\n",
       "      <td>3134</td>\n",
       "      <td>1</td>\n",
       "      <td>10</td>\n",
       "      <td>1369713600</td>\n",
       "    </tr>\n",
       "    <tr>\n",
       "      <th>3</th>\n",
       "      <td>3026</td>\n",
       "      <td>1</td>\n",
       "      <td>10</td>\n",
       "      <td>1350014400</td>\n",
       "    </tr>\n",
       "    <tr>\n",
       "      <th>4</th>\n",
       "      <td>3010</td>\n",
       "      <td>1</td>\n",
       "      <td>10</td>\n",
       "      <td>1347854400</td>\n",
       "    </tr>\n",
       "  </tbody>\n",
       "</table>\n",
       "</div>"
      ],
      "text/plain": [
       "   SOURCE  TARGET  RATING        TIME\n",
       "0    7188       1      10  1407470400\n",
       "1     430       1      10  1376539200\n",
       "2    3134       1      10  1369713600\n",
       "3    3026       1      10  1350014400\n",
       "4    3010       1      10  1347854400"
      ]
     },
     "execution_count": 64,
     "metadata": {},
     "output_type": "execute_result"
    }
   ],
   "source": [
    "road.head()"
   ]
  },
  {
   "cell_type": "code",
   "execution_count": 96,
   "metadata": {},
   "outputs": [],
   "source": [
    "def _get_graph_file():\n",
    "   G = nx.DiGraph()\n",
    "   #Pass the file object to csv reader\n",
    "   git = csv.reader(road,delimiter=',')\n",
    "\n",
    "   #Ignore the headers\n",
    "   headers = git.next()\n",
    "\n",
    "   #Ignore the line between headers and actual data\n",
    "   git.next()\n",
    "\n",
    "   #git is the variable to be passed, not git_df\n",
    "   G.add_weighted_edges_from(git.values)\n",
    "   # to check if the number of edges are correct\n",
    "   G.number_of_edges()\n",
    "   return G"
   ]
  },
  {
   "cell_type": "code",
   "execution_count": 97,
   "metadata": {},
   "outputs": [],
   "source": [
    "G=nx.from_pandas_edgelist(road,source=\"SOURCE\",target=\"TARGET\")"
   ]
  },
  {
   "cell_type": "code",
   "execution_count": 91,
   "metadata": {},
   "outputs": [],
   "source": [
    "#for x in G.nodes():\n",
    "      #print (\"Node: \", x, \" has total #degree: \",G.degree(x) )"
   ]
  },
  {
   "cell_type": "code",
   "execution_count": 98,
   "metadata": {},
   "outputs": [
    {
     "name": "stdout",
     "output_type": "stream",
     "text": [
      "Name: \n",
      "Type: Graph\n",
      "Number of nodes: 3783\n",
      "Number of edges: 14124\n",
      "Average degree:   7.4671\n"
     ]
    }
   ],
   "source": [
    "print(nx.info(G))"
   ]
  },
  {
   "cell_type": "code",
   "execution_count": 99,
   "metadata": {},
   "outputs": [
    {
     "data": {
      "image/png": "[encoded data removed]",
      "text/plain": [
       "<Figure size 432x288 with 1 Axes>"
      ]
     },
     "metadata": {},
     "output_type": "display_data"
    }
   ],
   "source": [
    "nx.draw(G)\n",
    "plt.show(G)"
   ]
  },
  {
   "cell_type": "code",
   "execution_count": 92,
   "metadata": {},
   "outputs": [],
   "source": [
    "#for u,v in G.edges():\n",
    "      #print (\"Weight of Edge (\"+str(u)+\",\"+str(v)+\")\", G.get_edge_data(u,v))"
   ]
  },
  {
   "cell_type": "code",
   "execution_count": 100,
   "metadata": {},
   "outputs": [
    {
     "data": {
      "text/plain": [
       "False"
      ]
     },
     "execution_count": 100,
     "metadata": {},
     "output_type": "execute_result"
    }
   ],
   "source": [
    "nx.is_connected(G)"
   ]
  },
  {
   "cell_type": "code",
   "execution_count": 102,
   "metadata": {},
   "outputs": [
    {
     "name": "stdout",
     "output_type": "stream",
     "text": [
      "There are 5 subgraphs\n",
      "----------------------------------\n",
      "Summary details of sub-graph: 1 \n",
      "----------------------------------\n",
      "Name: \n",
      "Type: Graph\n",
      "Number of nodes: 3775\n",
      "Number of edges: 14120\n",
      "Average degree:   7.4808\n",
      "Diameter:10\n",
      "Radius:5\n",
      "----------------------------------\n",
      "Summary details of sub-graph: 2 \n",
      "----------------------------------\n",
      "Name: \n",
      "Type: Graph\n",
      "Number of nodes: 2\n",
      "Number of edges: 1\n",
      "Average degree:   1.0000\n",
      "Diameter:1\n",
      "Radius:1\n",
      "----------------------------------\n",
      "Summary details of sub-graph: 3 \n",
      "----------------------------------\n",
      "Name: \n",
      "Type: Graph\n",
      "Number of nodes: 2\n",
      "Number of edges: 1\n",
      "Average degree:   1.0000\n",
      "Diameter:1\n",
      "Radius:1\n",
      "----------------------------------\n",
      "Summary details of sub-graph: 4 \n",
      "----------------------------------\n",
      "Name: \n",
      "Type: Graph\n",
      "Number of nodes: 2\n",
      "Number of edges: 1\n",
      "Average degree:   1.0000\n",
      "Diameter:1\n",
      "Radius:1\n",
      "----------------------------------\n",
      "Summary details of sub-graph: 5 \n",
      "----------------------------------\n",
      "Name: \n",
      "Type: Graph\n",
      "Number of nodes: 2\n",
      "Number of edges: 1\n",
      "Average degree:   1.0000\n",
      "Diameter:1\n",
      "Radius:1\n"
     ]
    }
   ],
   "source": [
    "G_list = list(nx.connected_component_subgraphs(G))\n",
    "print(\"There are {0} subgraphs\".format(len(G_list)))\n",
    "\n",
    "x = 1\n",
    "for i in G_list:\n",
    "    print(\"----------------------------------\")\n",
    "    print(\"Summary details of sub-graph: {0} \".format(x))\n",
    "    print(\"----------------------------------\")\n",
    "    x += 1\n",
    "    print(nx.info(i))\n",
    "    print(\"Diameter:{0}\".format(nx.diameter(i)))\n",
    "    print(\"Radius:{0}\".format(nx.radius(i)))"
   ]
  },
  {
   "cell_type": "code",
   "execution_count": null,
   "metadata": {},
   "outputs": [],
   "source": []
  }
 ],
 "metadata": {
  "kernelspec": {
   "display_name": "Python 3",
   "language": "python",
   "name": "python3"
  },
  "language_info": {
   "codemirror_mode": {
    "name": "ipython",
    "version": 3
   },
   "file_extension": ".py",
   "mimetype": "text/x-python",
   "name": "python",
   "nbconvert_exporter": "python",
   "pygments_lexer": "ipython3",
   "version": "3.7.1"
  }
 },
 "nbformat": 4,
 "nbformat_minor": 2
}
